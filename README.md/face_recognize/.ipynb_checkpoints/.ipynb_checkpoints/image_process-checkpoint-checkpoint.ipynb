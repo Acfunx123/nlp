{
 "cells": [
  {
   "cell_type": "code",
   "execution_count": 1,
   "metadata": {},
   "outputs": [],
   "source": [
    "import cv2\n",
    "import matplotlib.pyplot as plt\n",
    "import numpy as np\n",
    "import os\n",
    "\n",
    "IMAGE_HEIGHT = 64\n",
    "IMAGE_WIDTH = 64"
   ]
  },
  {
   "cell_type": "code",
   "execution_count": 2,
   "metadata": {},
   "outputs": [],
   "source": [
    "def dealwithimage(img, h=64, w=64):\n",
    "    ''' dealwithimage '''\n",
    "    #img = cv2.imread(imgpath)\n",
    "    top, bottom, left, right = getpaddingSize(img.shape[0:2])\n",
    "    img = cv2.copyMakeBorder(img, top, bottom, left, right, cv2.BORDER_CONSTANT, value=[0, 0, 0])\n",
    "    img = cv2.resize(img, (h, w))\n",
    "    return img\n",
    "\n",
    "def getpaddingSize(shape):\n",
    "    ''' get size to make image to be a square rect '''\n",
    "    h, w = shape\n",
    "    longest = max(h, w)\n",
    "    result = (np.array([longest]*4, int) - np.array([h, h, w, w], int)) // 2\n",
    "    return result.tolist()\n",
    "\n",
    "def dealwithimage(img, h=64, w=64):\n",
    "    ''' dealwithimage '''\n",
    "    #img = cv2.imread(imgpath)\n",
    "    top, bottom, left, right = getpaddingSize(img.shape[0:2])\n",
    "    img = cv2.copyMakeBorder(img, top, bottom, left, right, cv2.BORDER_CONSTANT, value=[0, 0, 0])\n",
    "    img = cv2.resize(img, (h, w))\n",
    "    return img\n",
    "\n",
    "def relight(imgsrc, alpha=1, bias=0):\n",
    "    '''relight'''\n",
    "    imgsrc = imgsrc.astype(float)\n",
    "    imgsrc = imgsrc * alpha + bias\n",
    "    imgsrc[imgsrc < 0] = 0\n",
    "    imgsrc[imgsrc > 255] = 255\n",
    "    imgsrc = imgsrc.astype(np.uint8)\n",
    "    return imgsrc"
   ]
  },
  {
   "cell_type": "code",
   "execution_count": 28,
   "metadata": {},
   "outputs": [],
   "source": [
    "def _process_image(img_path, saved_dir,):\n",
    "    filename = os.path.splitext(os.path.basename(img_path))[0]\n",
    "    img = cv2.imread(img_path)\n",
    "    haar = cv2.CascadeClassifier('./haarcascade_frontalface_default.xml')\n",
    "    gray_img = cv2.cvtColor(img, cv2.COLOR_BGR2GRAY)\n",
    "    faces = haar.detectMultiScale(gray_img, 1.3, 5)\n",
    "    if len(faces) == 0: # no face in the image\n",
    "        return \n",
    "    n = 0\n",
    "    for f_x, f_y, f_w, f_h in faces:\n",
    "        n+=1\n",
    "        face = img[f_y:f_y+f_h, f_x:f_x+f_w]\n",
    "        face = dealwithimage(face, IMAGE_HEIGHT, IMAGE_WIDTH)\n",
    "        \n",
    "        for inx, (alpha, bias) in enumerate([[1, 1], [1, 50], [0.5, 0]]):\n",
    "            face_handled = relight(face, alpha, bias)\n",
    "            cv2.imwrite(os.path.join(saved_dir, \"%s_%d_%d.jpg\"%(filename, n, inx)), face_handled)"
   ]
  },
  {
   "cell_type": "code",
   "execution_count": 22,
   "metadata": {},
   "outputs": [],
   "source": [
    "def process_image(img_dir, saved_dir):\n",
    "    filelist = os.listdir(img_dir)\n",
    "    for filename in filelist:\n",
    "        _process_image(os.path.join(img_dir, filename), saved_dir)"
   ]
  },
  {
   "cell_type": "code",
   "execution_count": 2,
   "metadata": {},
   "outputs": [],
   "source": [
    "root_dir = \"/home/wanxin/dataset/faces/\"\n",
    "raw_path = os.path.join(root_dir, \"raw\")\n",
    "processed_path = os.path.join(root_dir, \"processed\")"
   ]
  },
  {
   "cell_type": "code",
   "execution_count": 3,
   "metadata": {},
   "outputs": [
    {
     "data": {
      "text/plain": [
       "['WenYiXiao_DataSet',\n",
       " 'ZahngMingYing_DataSet',\n",
       " 'WangChunYu_DataSet',\n",
       " 'YangJiaQing_DataSet',\n",
       " 'XueYuanKui_DataSet',\n",
       " 'HuangJingYu_DataSet',\n",
       " 'MaMiao_DataSet']"
      ]
     },
     "execution_count": 3,
     "metadata": {},
     "output_type": "execute_result"
    }
   ],
   "source": [
    "raw_path_file_list = os.listdir(raw_path)\n",
    "raw_path_file_list"
   ]
  },
  {
   "cell_type": "code",
   "execution_count": null,
   "metadata": {},
   "outputs": [],
   "source": []
  },
  {
   "cell_type": "code",
   "execution_count": 29,
   "metadata": {},
   "outputs": [
    {
     "name": "stdout",
     "output_type": "stream",
     "text": [
      "folder name: WenYiXiao_DataSet\n",
      "folder name: ZahngMingYing_DataSet\n",
      "folder name: WangChunYu_DataSet\n",
      "folder name: YangJiaQing_DataSet\n",
      "folder name: XueYuanKui_DataSet\n",
      "folder name: HuangJingYu_DataSet\n",
      "folder name: MaMiao_DataSet\n",
      "Processed Done\n"
     ]
    }
   ],
   "source": [
    "for folder in raw_path_file_list:\n",
    "    print(\"folder name: %s\"%folder)\n",
    "    process_trainfile_path = os.path.join(raw_path, folder, \"Train_DataSet\")\n",
    "    process_testfile_path = os.path.join(raw_path, folder, \"Test_DataSet\")\n",
    "    assert os.path.exists(process_trainfile_path)\n",
    "    assert os.path.exists(process_testfile_path)\n",
    "    saved_trainfile_path = os.path.join(processed_path, folder, \"Train_DataSet\")\n",
    "    saved_testfile_path = os.path.join(processed_path, folder, \"Test_DataSet\")\n",
    "    if not os.path.exists(saved_trainfile_path):\n",
    "        os.system(\"mkdir -p %s\"%(saved_trainfile_path))\n",
    "    if not os.path.exists(saved_testfile_path):\n",
    "        os.system(\"mkdir -p %s\"%(saved_testfile_path))\n",
    "    process_image(process_trainfile_path, saved_trainfile_path)\n",
    "    process_image(process_testfile_path, saved_testfile_path)\n",
    "    \n",
    "print(\"Processed Done\")\n",
    "    "
   ]
  },
  {
   "cell_type": "code",
   "execution_count": 35,
   "metadata": {
    "collapsed": true
   },
   "outputs": [
    {
     "data": {
      "image/png": "[encoded data removed]",
      "text/plain": [
       "<Figure size 432x288 with 1 Axes>"
      ]
     },
     "metadata": {},
     "output_type": "display_data"
    }
   ],
   "source": [
    "tmp = \"/home/wanxin/dataset/faces/processed/MaMiao_DataSet/Train_DataSet/409_1_2.jpg\"\n",
    "xx = cv2.imread(tmp)\n",
    "%matplotlib inline\n",
    "plt.imshow(xx)\n",
    "plt.show()"
   ]
  },
  {
   "cell_type": "code",
   "execution_count": 38,
   "metadata": {},
   "outputs": [],
   "source": [
    "# label2 id\n",
    "labels = list()\n",
    "for item in raw_path_file_list:\n",
    "    label = item.split(\"_\")[0].strip()\n",
    "    labels.append(label)\n",
    "labels\n",
    "label2id = dict()\n",
    "id2label = dict()\n",
    "for idx, label in enumerate(labels):\n",
    "    label2id[label] = idx\n",
    "    id2label[id] = label\n",
    "import pickle as pk\n",
    "pk.dump(label2id, open(\"/home/wanxin/face_recognize/data/label2id.pkl\", \"wb\"))\n",
    "pk.dump(id2label, open(\"/home/wanxin/face_recognize/data/id2label.pkl\", \"wb\"))"
   ]
  },
  {
   "cell_type": "code",
   "execution_count": 46,
   "metadata": {},
   "outputs": [],
   "source": [
    "import json\n",
    "def json_create(folder_list, label2id, mode = \"train\"):\n",
    "    if mode == \"train\":\n",
    "        json_name = \"traindata.json\"\n",
    "        folder = \"Train_DataSet\"\n",
    "    else:\n",
    "        json_name = \"testdata.json\"\n",
    "        folder = \"Test_DataSet\"\n",
    "    # format: {label: |1|2|3|4|5|6|, image_path: \"......\"}\n",
    "    json_data = list()\n",
    "    for item in folder_list:\n",
    "        image_path = os.path.join(item, folder)\n",
    "        label = item.split(\"_\")[0].strip()\n",
    "        idx = label2id[label]\n",
    "        file_list = os.listdir(os.path.join(\"/home/wanxin/dataset/faces/processed\", image_path))\n",
    "        for filename in file_list:\n",
    "            image_name = os.path.join(\"processed\", image_path, filename)\n",
    "            json_item = dict()\n",
    "            json_item[\"label\"] = idx\n",
    "            json_item[\"image_path\"] = image_name\n",
    "            json_data.append(json_item)\n",
    "    json.dump(json_data, open(os.path.join(\"/home/wanxin/face_recognize/data/\", json_name), \"w\"))   "
   ]
  },
  {
   "cell_type": "code",
   "execution_count": 47,
   "metadata": {},
   "outputs": [],
   "source": [
    "json_create(raw_path_file_list, label2id, \"train\")"
   ]
  },
  {
   "cell_type": "code",
   "execution_count": 49,
   "metadata": {},
   "outputs": [],
   "source": [
    "json_create(raw_path_file_list, label2id, \"test\")"
   ]
  },
  {
   "cell_type": "code",
   "execution_count": 51,
   "metadata": {},
   "outputs": [],
   "source": [
    "train_data = json.load(open(\"/home/wanxin/face_recognize/data/traindata.json\", \"r\"))"
   ]
  },
  {
   "cell_type": "code",
   "execution_count": 52,
   "metadata": {},
   "outputs": [
    {
     "data": {
      "text/plain": [
       "14142"
      ]
     },
     "execution_count": 52,
     "metadata": {},
     "output_type": "execute_result"
    }
   ],
   "source": [
    "len(train_data)"
   ]
  },
  {
   "cell_type": "code",
   "execution_count": 53,
   "metadata": {},
   "outputs": [],
   "source": [
    "testdata = json.load(open(\"/home/wanxin/face_recognize/data/testdata.json\", \"r\"))"
   ]
  },
  {
   "cell_type": "code",
   "execution_count": 54,
   "metadata": {},
   "outputs": [
    {
     "data": {
      "text/plain": [
       "7659"
      ]
     },
     "execution_count": 54,
     "metadata": {},
     "output_type": "execute_result"
    }
   ],
   "source": [
    "len(testdata)"
   ]
  },
  {
   "cell_type": "code",
   "execution_count": 5,
   "metadata": {},
   "outputs": [
    {
     "data": {
      "text/plain": [
       "{'WenYiXiao': 0,\n",
       " 'ZahngMingYing': 1,\n",
       " 'WangChunYu': 2,\n",
       " 'YangJiaQing': 3,\n",
       " 'XueYuanKui': 4,\n",
       " 'HuangJingYu': 5,\n",
       " 'MaMiao': 6}"
      ]
     },
     "execution_count": 5,
     "metadata": {},
     "output_type": "execute_result"
    }
   ],
   "source": [
    "import pickle as pk\n",
    "label2id = pk.load(open(\"/home/wanxin/face_recognize/data/history/label2id.pkl\", \"rb\"))\n",
    "label2id"
   ]
  },
  {
   "cell_type": "code",
   "execution_count": 11,
   "metadata": {},
   "outputs": [
    {
     "ename": "AssertionError",
     "evalue": "",
     "output_type": "error",
     "traceback": [
      "\u001b[0;31m---------------------------------------------------------------------------\u001b[0m",
      "\u001b[0;31mAssertionError\u001b[0m                            Traceback (most recent call last)",
      "\u001b[0;32m<ipython-input-11-710ce1fa22f0>\u001b[0m in \u001b[0;36m<module>\u001b[0;34m()\u001b[0m\n\u001b[1;32m      6\u001b[0m     \u001b[0mtarget_test_path\u001b[0m \u001b[0;34m=\u001b[0m \u001b[0mos\u001b[0m\u001b[0;34m.\u001b[0m\u001b[0mpath\u001b[0m\u001b[0;34m.\u001b[0m\u001b[0mjoin\u001b[0m\u001b[0;34m(\u001b[0m\u001b[0;34m\"/home/wanxin/face_recognize/data\"\u001b[0m\u001b[0;34m,\u001b[0m \u001b[0;34m\"val\"\u001b[0m\u001b[0;34m,\u001b[0m \u001b[0;34m\"item\"\u001b[0m\u001b[0;34m)\u001b[0m\u001b[0;34m\u001b[0m\u001b[0m\n\u001b[1;32m      7\u001b[0m     \u001b[0mtarget_train_path\u001b[0m \u001b[0;34m=\u001b[0m \u001b[0mos\u001b[0m\u001b[0;34m.\u001b[0m\u001b[0mpath\u001b[0m\u001b[0;34m.\u001b[0m\u001b[0mjoin\u001b[0m\u001b[0;34m(\u001b[0m\u001b[0;34m\"/home/wanxin/face_recognize/data\"\u001b[0m\u001b[0;34m,\u001b[0m \u001b[0;34m\"train\"\u001b[0m\u001b[0;34m,\u001b[0m \u001b[0;34m\"item\"\u001b[0m\u001b[0;34m)\u001b[0m\u001b[0;34m\u001b[0m\u001b[0m\n\u001b[0;32m----> 8\u001b[0;31m     \u001b[0;32massert\u001b[0m\u001b[0;34m(\u001b[0m\u001b[0mos\u001b[0m\u001b[0;34m.\u001b[0m\u001b[0mpath\u001b[0m\u001b[0;34m.\u001b[0m\u001b[0mexists\u001b[0m\u001b[0;34m(\u001b[0m\u001b[0mtarget_test_path\u001b[0m\u001b[0;34m)\u001b[0m\u001b[0;34m)\u001b[0m\u001b[0;34m\u001b[0m\u001b[0m\n\u001b[0m\u001b[1;32m      9\u001b[0m     \u001b[0;32massert\u001b[0m\u001b[0;34m(\u001b[0m\u001b[0mos\u001b[0m\u001b[0;34m.\u001b[0m\u001b[0mpath\u001b[0m\u001b[0;34m.\u001b[0m\u001b[0mexists\u001b[0m\u001b[0;34m(\u001b[0m\u001b[0mtarget_train_path\u001b[0m\u001b[0;34m)\u001b[0m\u001b[0;34m)\u001b[0m\u001b[0;34m\u001b[0m\u001b[0m\n\u001b[1;32m     10\u001b[0m     \u001b[0mos\u001b[0m\u001b[0;34m.\u001b[0m\u001b[0msystm\u001b[0m\u001b[0;34m\u001b[0m\u001b[0m\n",
      "\u001b[0;31mAssertionError\u001b[0m: "
     ]
    }
   ],
   "source": [
    "for item, _ in label2id.items():\n",
    "    class_folder = item+\"_DataSet\"\n",
    "    class_path = os.path.join(\"/home/wanxin/dataset/faces/processed\", class_folder)\n",
    "    test_class_path = os.path.join(class_path, \"Test_DataSet\")\n",
    "    train_class_path = os.path.join(class_path, \"Train_DataSet\")\n",
    "    target_test_path = os.path.join(\"/home/wanxin/face_recognize/data\", \"val\", item)\n",
    "    target_train_path = os.path.join(\"/home/wanxin/face_recognize/data\", \"train\", item)\n",
    "    assert(os.path.exists(target_test_path))\n",
    "    assert(os.path.exists(target_train_path))\n",
    "    os.systm\n",
    "    "
   ]
  },
  {
   "cell_type": "code",
   "execution_count": null,
   "metadata": {},
   "outputs": [],
   "source": []
  },
  {
   "cell_type": "code",
   "execution_count": null,
   "metadata": {},
   "outputs": [],
   "source": []
  }
 ],
 "metadata": {
  "kernelspec": {
   "display_name": "Python 3",
   "language": "python",
   "name": "python3"
  },
  "language_info": {
   "codemirror_mode": {
    "name": "ipython",
    "version": 3
   },
   "file_extension": ".py",
   "mimetype": "text/x-python",
   "name": "python",
   "nbconvert_exporter": "python",
   "pygments_lexer": "ipython3",
   "version": "3.6.5"
  }
 },
 "nbformat": 4,
 "nbformat_minor": 2
}
