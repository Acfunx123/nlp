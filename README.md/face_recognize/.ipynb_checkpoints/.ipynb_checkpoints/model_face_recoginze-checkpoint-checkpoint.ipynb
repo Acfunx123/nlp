{
 "cells": [
  {
   "cell_type": "code",
   "execution_count": 1,
   "metadata": {},
   "outputs": [],
   "source": [
    "import torch\n",
    "import torch.nn as nn\n",
    "from torchvision import datasets\n",
    "import os\n",
    "import numpy as np"
   ]
  },
  {
   "cell_type": "code",
   "execution_count": 2,
   "metadata": {},
   "outputs": [],
   "source": [
    "root_dir = \"/home/wanxin/face_recognize/data\"\n",
    "batch_size = 16"
   ]
  },
  {
   "cell_type": "code",
   "execution_count": 3,
   "metadata": {},
   "outputs": [],
   "source": [
    "train_dir = os.path.join(root_dir, \"train\")\n",
    "val_dir = os.path.join(root_dir, \"val\")"
   ]
  },
  {
   "cell_type": "code",
   "execution_count": 4,
   "metadata": {},
   "outputs": [],
   "source": [
    "from skimage.transform import warp, AffineTransform\n",
    "from torchvision import transforms\n",
    "train_transforms = transforms.Compose([\n",
    "    transforms.ToTensor()\n",
    "])\n",
    "\n",
    "val_transforms = transforms.Compose([\n",
    "    transforms.ToTensor()\n",
    "])"
   ]
  },
  {
   "cell_type": "code",
   "execution_count": 5,
   "metadata": {},
   "outputs": [],
   "source": [
    "train_dataset = datasets.ImageFolder(train_dir, transform=train_transforms)\n",
    "train_loader = torch.utils.data.DataLoader(train_dataset, batch_size=batch_size, shuffle=True, num_workers=1)\n",
    "\n",
    "val_dataset = datasets.ImageFolder(val_dir, transform=val_transforms)\n",
    "val_loader = torch.utils.data.DataLoader(val_dataset, batch_size=batch_size, shuffle=True, num_workers=1)"
   ]
  },
  {
   "cell_type": "code",
   "execution_count": 6,
   "metadata": {},
   "outputs": [],
   "source": [
    "from torch.autograd import Variable\n",
    "IMAGE_SIZE = 64\n",
    "NUM_CHANNELS = 3\n",
    "def get_convnet_output_size(network, input_size = IMAGE_SIZE):\n",
    "    input_size = input_size or IMAGE_SIZE\n",
    "    \n",
    "    if not isinstance(network, list):\n",
    "        network = [network]\n",
    "    \n",
    "    in_channels = network[0].conv1.in_channels\n",
    "    \n",
    "    output = Variable(torch.ones(1, in_channels, input_size, input_size))\n",
    "    output.require_grad = False\n",
    "    \n",
    "    for conv in network:\n",
    "        output = conv.forward(output)\n",
    "    \n",
    "    return np.asscalar(np.prod(output.data.shape)), output.data.size()[2]\n",
    "\n",
    "class ConvLayer(nn.Module):\n",
    "    def __init__(self, in_c, out_c, kernel_size, max_pool_stride=2,\n",
    "                 dropout_ratio=0.5):\n",
    "        super(ConvLayer, self).__init__()\n",
    "        self.conv1 = nn.Conv2d(in_c, out_c, kernel_size=kernel_size)\n",
    "        self.conv2 = nn.Conv2d(out_c, out_c, kernel_size=kernel_size)\n",
    "        self.max_pool2d = nn.MaxPool2d(max_pool_stride)\n",
    "        self.relu = nn.ReLU()\n",
    "        self.dropout = nn.Dropout2d(p=dropout_ratio)\n",
    "\n",
    "    def forward(self, x):\n",
    "        x = self.relu(self.conv2(self.relu(self.conv1(x))))\n",
    "        return self.dropout(self.max_pool2d(x))\n",
    "\n",
    "class Network(nn.Module):\n",
    "    def __init__(self, num_classes):\n",
    "        super(Network, self).__init__()\n",
    "        self.convs = []\n",
    "        self.convs.append(ConvLayer(NUM_CHANNELS, 32, kernel_size=5))\n",
    "        self.convs.append(ConvLayer(32, 64, kernel_size=5))\n",
    "        conv_output_size, _ = get_convnet_output_size(self.convs)\n",
    "        self.fully_connected1 = nn.Linear(conv_output_size, 1024)\n",
    "        self.fully_connected2 = nn.Linear(1024,\n",
    "                                          num_classes)\n",
    "        self.main = nn.Sequential(*self.convs)\n",
    "    def forward(self, x):\n",
    "        x = self.main(x)\n",
    "        x = x.view(x.size(0), -1)\n",
    "        x = nn.functional.relu(self.fully_connected1(x))\n",
    "        return nn.functional.log_softmax(self.fully_connected2(x), dim=1)\n",
    "        \n",
    "    "
   ]
  },
  {
   "cell_type": "code",
   "execution_count": 7,
   "metadata": {
    "scrolled": true
   },
   "outputs": [
    {
     "data": {
      "text/plain": [
       "Network(\n",
       "  (fully_connected1): Linear(in_features=6400, out_features=1024, bias=True)\n",
       "  (fully_connected2): Linear(in_features=1024, out_features=7, bias=True)\n",
       "  (main): Sequential(\n",
       "    (0): ConvLayer(\n",
       "      (conv1): Conv2d(3, 32, kernel_size=(5, 5), stride=(1, 1))\n",
       "      (conv2): Conv2d(32, 32, kernel_size=(5, 5), stride=(1, 1))\n",
       "      (max_pool2d): MaxPool2d(kernel_size=2, stride=2, padding=0, dilation=1, ceil_mode=False)\n",
       "      (relu): ReLU()\n",
       "      (dropout): Dropout2d(p=0.5)\n",
       "    )\n",
       "    (1): ConvLayer(\n",
       "      (conv1): Conv2d(32, 64, kernel_size=(5, 5), stride=(1, 1))\n",
       "      (conv2): Conv2d(64, 64, kernel_size=(5, 5), stride=(1, 1))\n",
       "      (max_pool2d): MaxPool2d(kernel_size=2, stride=2, padding=0, dilation=1, ceil_mode=False)\n",
       "      (relu): ReLU()\n",
       "      (dropout): Dropout2d(p=0.5)\n",
       "    )\n",
       "  )\n",
       ")"
      ]
     },
     "execution_count": 7,
     "metadata": {},
     "output_type": "execute_result"
    }
   ],
   "source": [
    "device = device = torch.device(\"cuda:0\" if torch.cuda.is_available() else \"cpu\")\n",
    "model = Network(7).to(device)\n",
    "model"
   ]
  },
  {
   "cell_type": "code",
   "execution_count": 21,
   "metadata": {},
   "outputs": [],
   "source": [
    "from torch import optim\n",
    "from torch.nn.functional import nll_loss\n",
    "import torch.nn.functional as F\n",
    "import time\n",
    "optimizer = optim.Adam(model.parameters(), lr= 1e-5)\n",
    "criten = nn.NLLLoss()"
   ]
  },
  {
   "cell_type": "code",
   "execution_count": 34,
   "metadata": {},
   "outputs": [],
   "source": [
    "def validation(model, loader):\n",
    "    model.eval()\n",
    "    validation_loss = 0\n",
    "    correct = 0\n",
    "    for images, labels in loader:\n",
    "        \n",
    "        with torch.no_grad():\n",
    "            images, labels = Variable(images), Variable(labels)\n",
    "\n",
    "            images, labels = images.to(device), labels.to(device)\n",
    "\n",
    "            output = model(images)\n",
    "            validation_loss += F.nll_loss(output, labels,\n",
    "                                      size_average=False).item()\n",
    "            pred = output.data.max(1, keepdim=True)[1]\n",
    "            correct += pred.eq(labels.data.view_as(pred)).cpu().sum()\n",
    "\n",
    "    validation_loss /= len(loader.dataset)\n",
    "    model.train()\n",
    "    return 100.0 * correct / len(loader.dataset)"
   ]
  },
  {
   "cell_type": "code",
   "execution_count": 35,
   "metadata": {
    "scrolled": true
   },
   "outputs": [
    {
     "data": {
      "text/plain": [
       "tensor(98)"
      ]
     },
     "execution_count": 35,
     "metadata": {},
     "output_type": "execute_result"
    }
   ],
   "source": [
    "xx = validation(model, val_loader)\n",
    "xx"
   ]
  },
  {
   "cell_type": "code",
   "execution_count": 29,
   "metadata": {
    "scrolled": true
   },
   "outputs": [
    {
     "name": "stdout",
     "output_type": "stream",
     "text": [
      "883\n",
      "=====================================================================\n",
      "epoch 1, time: 6.48\n",
      "\ttrain_loss: 0.00\n",
      "=====================================================================\n"
     ]
    }
   ],
   "source": [
    "epoches = 1\n",
    "\n",
    "total_loss = 0.0\n",
    "t = time.time()\n",
    "for i, (images, labels) in enumerate(train_loader):\n",
    "    images , labels = Variable(images), Variable(labels)\n",
    "\n",
    "    images = images.to(device)\n",
    "    labels = labels.long().to(device)\n",
    "    preds = model(images)\n",
    "    loss = criten(preds, labels)\n",
    "    loss.backward()\n",
    "    optimizer.step()\n",
    "    optimizer.zero_grad()\n",
    "    total_loss += loss\n",
    "total_loss /= len(train_loader.dataset)\n",
    "print(i)\n",
    "print(\"=====================================================================\")\n",
    "print('epoch %d, time: %.2f' % (1, time.time()-t))\n",
    "print('\\ttrain_loss: %.2f' % (total_loss))\n",
    "print(\"=====================================================================\")"
   ]
  },
  {
   "cell_type": "code",
   "execution_count": 13,
   "metadata": {},
   "outputs": [
    {
     "name": "stdout",
     "output_type": "stream",
     "text": [
      "14142\n"
     ]
    }
   ],
   "source": [
    "print(len(train_loader.dataset))"
   ]
  }
 ],
 "metadata": {
  "kernelspec": {
   "display_name": "Python 3",
   "language": "python",
   "name": "python3"
  },
  "language_info": {
   "codemirror_mode": {
    "name": "ipython",
    "version": 3
   },
   "file_extension": ".py",
   "mimetype": "text/x-python",
   "name": "python",
   "nbconvert_exporter": "python",
   "pygments_lexer": "ipython3",
   "version": "3.6.5"
  }
 },
 "nbformat": 4,
 "nbformat_minor": 2
}
