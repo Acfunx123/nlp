{
 "cells": [
  {
   "cell_type": "code",
   "execution_count": 1,
   "metadata": {},
   "outputs": [],
   "source": [
    "from model import Network"
   ]
  },
  {
   "cell_type": "code",
   "execution_count": 2,
   "metadata": {},
   "outputs": [
    {
     "data": {
      "text/plain": [
       "Network(\n",
       "  (fully_connected1): Linear(in_features=6400, out_features=1024, bias=True)\n",
       "  (fully_connected2): Linear(in_features=1024, out_features=7, bias=True)\n",
       "  (main): Sequential(\n",
       "    (0): ConvLayer(\n",
       "      (conv1): Conv2d(3, 32, kernel_size=(5, 5), stride=(1, 1))\n",
       "      (conv2): Conv2d(32, 32, kernel_size=(5, 5), stride=(1, 1))\n",
       "      (max_pool2d): MaxPool2d(kernel_size=2, stride=2, padding=0, dilation=1, ceil_mode=False)\n",
       "      (relu): ReLU()\n",
       "      (dropout): Dropout2d(p=0.5)\n",
       "    )\n",
       "    (1): ConvLayer(\n",
       "      (conv1): Conv2d(32, 64, kernel_size=(5, 5), stride=(1, 1))\n",
       "      (conv2): Conv2d(64, 64, kernel_size=(5, 5), stride=(1, 1))\n",
       "      (max_pool2d): MaxPool2d(kernel_size=2, stride=2, padding=0, dilation=1, ceil_mode=False)\n",
       "      (relu): ReLU()\n",
       "      (dropout): Dropout2d(p=0.5)\n",
       "    )\n",
       "  )\n",
       ")"
      ]
     },
     "execution_count": 2,
     "metadata": {},
     "output_type": "execute_result"
    }
   ],
   "source": [
    "model = Network(7)\n",
    "model"
   ]
  },
  {
   "cell_type": "code",
   "execution_count": 5,
   "metadata": {},
   "outputs": [],
   "source": [
    "from tensorboardX import SummaryWriter\n",
    "import torch"
   ]
  },
  {
   "cell_type": "code",
   "execution_count": 7,
   "metadata": {},
   "outputs": [],
   "source": [
    "dummy_input = torch.rand(32, 3, 64, 64)\n",
    "with SummaryWriter(comment = \"Networks\") as w:\n",
    "    w.add_graph(model, (dummy_input,))"
   ]
  }
 ],
 "metadata": {
  "kernelspec": {
   "display_name": "py3vqa",
   "language": "python",
   "name": "py3vqa"
  },
  "language_info": {
   "codemirror_mode": {
    "name": "ipython",
    "version": 3
   },
   "file_extension": ".py",
   "mimetype": "text/x-python",
   "name": "python",
   "nbconvert_exporter": "python",
   "pygments_lexer": "ipython3",
   "version": "3.6.6"
  }
 },
 "nbformat": 4,
 "nbformat_minor": 2
}
